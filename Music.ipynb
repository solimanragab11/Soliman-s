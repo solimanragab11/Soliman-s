{
  "nbformat": 4,
  "nbformat_minor": 0,
  "metadata": {
    "colab": {
      "provenance": [],
      "mount_file_id": "1o4r2CUaASjvfgaq7F5s2wqFPSDUwC8C-",
      "authorship_tag": "ABX9TyMkojJEeewYLFAW1J+iL4Bl",
      "include_colab_link": true
    },
    "kernelspec": {
      "name": "python3",
      "display_name": "Python 3"
    },
    "language_info": {
      "name": "python"
    }
  },
  "cells": [
    {
      "cell_type": "markdown",
      "metadata": {
        "id": "view-in-github",
        "colab_type": "text"
      },
      "source": [
        "<a href=\"https://colab.research.google.com/github/solimanragab11/Soliman-s/blob/main/Music.ipynb\" target=\"_parent\"><img src=\"https://colab.research.google.com/assets/colab-badge.svg\" alt=\"Open In Colab\"/></a>"
      ]
    },
    {
      "cell_type": "code",
      "execution_count": 22,
      "metadata": {
        "colab": {
          "base_uri": "https://localhost:8080/"
        },
        "id": "v_sJKKwcLY3m",
        "outputId": "53e26269-313c-4515-f122-642640669aea"
      },
      "outputs": [
        {
          "output_type": "stream",
          "name": "stdout",
          "text": [
            "Mounted at /content/drive\n",
            "['Wegz - LAQTTA _ ويجز - لقطة prod. Wezza Montaser(MP3_160K).mp3', 'wegz - matwalesh _ ويجز - متواليش prod (DJ Totti)(MP3_160K).mp3', 'ZAYN - Dusk Till Dawn ft. Sia (Official Music Vide(M4A_128K).m4a', 'أغنية القرد (قرد ولا Monkey ) من فيلم _ القرد بيتك(MP3_160K).mp3', 'أغنية اسمع مني كلمة - أحمد مكي - مسلسل الكبير أوي(M4A_128K).m4a', 'أغنية اجنبيه حزينة ---- __ I Will Carry You مترجمة(MP3_160K).mp3', 'أغنية عندك راندفو (عندك معاد غرامي) وShahyn Ft Bas(MP3_160K).mp3', 'أغنية فيلم الشبح أحمد عز سألت نفسي كتير   YouTube(MP3_160K).mp3', 'إيزي ماني - شارموفرز (من فيلم بنك الحظ) _ Easy Mon(MP3_160K).mp3', 'ابيوسف - عزرائيل (فيديو كليب) _ ABYUSIF - AZRA2EEL(MP3_160K).mp3', 'ابيوسف _ جامد بس GAMED BAS(M4A_128K)_1.m4a', 'احمر(MP3_160K).mp3', 'اخر 5 سنتى فى بنطلونى مبلولين(MP3_160K).mp3', 'اغنية عيدو  رقصتي _- شارموفرز  -  حسن الرداد -  ال(M4A_128K).m4a', 'اغنية الديكسو فيلم الفيل الازرق 2(MP3_160K).mp3', 'اغنية كايروكى وسعاد ماسى - اجمل ما عندى 2014 _ الن(MP3_160K).mp3', 'اغنية كايروكى - السكة شمال 2014 _ النسخة الاصلية(MP3_160K).mp3', 'امير مصطفى - مش مهتم _ Amir Mostafa - Msh Mohtam(MP3_160K).mp3', 'الليل وسماه .. ونجومه وقمره ... وانت وانا(M4A_128K).m4a', 'انا مش هقدر حد _ اسلام شيبسي - ابيوسف - شعبان عبد الرحيم Red Bull Music(MP3_160K)_1.mp3', 'تراك انجليزي لمروان موسي ادخل الفراغ_ marwan mousa(MP3_160K).mp3', 'تراك بيبسي بلاك مع ابيوسف و مروان بابلو(MP3_160K).mp3', 'تسريب بفقد وزني مش الأمل كامل بالكلمات - ويجز _ We(MP3_160K).mp3', 'جورج وسوف - ياللي تعبنا سنين في هواه عُمان 1998(MP3_160K).mp3', 'حرامية(MP3_160K).mp3', 'دوجو(MP3_160K).mp3', 'ريمكس محدش له عندي حاجه ابيوسف(MP3_160K).mp3', 'مروان موسى-عفروتو -- أنا متفائل(MP3_160K).mp3', 'مروان موسى ✕ الضبع - مين يشتري Marwan Moussa X Eld(MP3_160K).mp3', 'ويجز - نصين _ Wegz - Nossein  Prod. By Sintax(MP3_160K).mp3', 'اغنية كوكا كوكا ل محمود الحسيني سيجاره بنى  كامله   YouTube(MP3_160K).mp3', 'خالد سليم - بلاش الملامه _ Khaled Selim - Balash El Malama(MP3_160K).mp3', 'أنا وبنتي -  شاهد مصطفى قمر يبدع بغناء _قبل أي كلمة_(MP3_160K).mp3', 'جورج وسوف _ ياه عالزمن _ Georges Wassouf _ Ya Al Zaman _ Music Video _(MP3_320K).mp3', 'حبيتها ايوه انا حبيتها _عبد الحليم حافظ_فاتت جنبنا(MP3_320K).mp3', 'بروفة فاتت جنبنا بين عبد الحليم حافظ ومحمد عبد الوهاب(MP3_320K).mp3', 'الخيال - مش داري  _  EL KHAYAL - MESH DARY(MP3_320K).mp3', 'ايزلا الودود _اولد سكول VS تراب سكول _ __EZ LA _OLD SCHOOL VS TRAP   SCHOOL _ (OFFICIAL MUSIC VIDEO)(MP3_320K).mp3', 'ايزلا الودود _ Fuck طوريا _ __ EZ LA _فك طوريا_  (Official Video Lyrics)(MP3_320K).mp3', 'إيمان مصطفى الشميطي تغني وتعزف في تجارب أداء Arabs Got Talent(MP3_320K).mp3', 'أبطال اللعبة _ PMPL  في ال MENA أغنية فرق(MP3_320K).mp3', 'ريد بُل مزيكا صالونات - أحمد بهاء _بوب_ و L5VAV -  التراك ده(MP3_320K).mp3', 'دنيا العجايب - _Abdelrahman Roshdy  و _EL Waili  _ ريد بُل مزيكا صالونات(MP3_320K).mp3', 'Zaid Khaled _ El Waili - Layali _ زيد خالد و الوايلي - ليالي  (Official Audio)(MP3_320K).mp3', 'خيال _ khayal (feat. Abdo morgan)(MP3_320K).mp3', 'دراجون هيلف - Dragon helf ابيوسف دس تراك دراجون هيل(MP3_320K).mp3', 'Zaid Khaled _ El Waili - Tayarat o Sayarat _ زيد خالد و الوايلي - طيارات و سيارات  (Official Audio)(MP3_320K).mp3', 'Zaid Khaled x Idreesi x El Waili - Ala Nar _ زيد خالد و إدريسي و الوايلي - على نار(MP3_320K).mp3', 'تراك الموسم(MP3_320K).mp3', 'اسماعيل الليثي _ سألت المجروحين - من مسلسل _ ابن حلال _محمد_رمضان .. رمضان2014(MP3_320K).mp3', 'اغنية اقوي ميكس من وي _ مكي وويجز(MP3_320K).mp3', 'الماس و الوايلى - الكيف  ALMAS X EL Waili  -EL KEF (Official Visuals)(MP3_320K).mp3', 'روح المليحة - محمود التهامي ومولوتوف - ريد بُل مزيكا صالونات(MP3_320K).mp3', 'إيزلا وحبيبة _ الورقة والقلم _ __ ( EZ LA  Ft BeBo _ Paper And Pen _ (Official  Video Clip(MP3_320K).mp3', 'العبد و الشيطان الجزء الأول(MP3_320K).mp3', 'أغنية حب إيه لمحمد سعد من فيلم اللمبي الأغنية اللي كسرت مصر وقت نزول الفيلم --(MP3_320K).mp3', 'اغنية محمد سعد - ياللى نسيت الغرام _مقدرش استغني عنك_ Mohamed Saad - Yally Nesyet Elghram(MP3_320K).mp3', 'رمضان البرنس - الصبر (التلميذ و الأستاذ)(MP3_320K).mp3', 'اديكوا فوق - مسلسل بيمبو (feat. DizzyTooSkinny_ Wezza _ Nubi)(MP3_320K).mp3', 'ايزلا _ انا ديزاينر _  __   (EZ LA  _Ana Designer _ prod by Boflot ( Official Music Video(MP3_320K).mp3', 'دارت الايام (جورج وسوف) سلطنة(MP3_320K).mp3', 'اب يوسف امل 2 الخروج من جهنم(MP3_160K).mp3', 'محمد العزبي - عيون بهية(MP3_320K).mp3', 'Zaid Khaled x El Waili - Lame _ زيد خالد و الوايلي - ليم(MP3_320K).mp3', 'ابيوسف - الميدلي الجديده _ Abyusif - Rap game - New medley(MP3_320K).mp3', 'تراك المدينة ويجز _ كامل(MP3_320K).mp3', 'حسن عبد الوهاب  -   مولد الجزيره(MP3_320K).mp3', 'خدني بين ايديك _ حميد الشاعري(MP3_320K).mp3', 'ابيوسف سيت_Abyusif sit(MP3_320K).mp3', 'ابيوسف مسلسل برمودا_Abyusif Mosalsal Bermuda(MP3_320K).mp3', 'ابيوسف اعصار كاترينا_Abyusif Esar katrena(MP3_320K).mp3', 'عبد الباسط حمودة - الجو هادي _ Abd El Basset Hamouda - El Gaw Hady(MP3_320K).mp3', 'عبد الباسط حمودة - كلك عاجبنى _ Abd El Basset Hamouda - Kolak Agebny(MP3_320K).mp3', 'عبد الباسط حمودة كليب انا مش عارفني Abd elbasit hamouda clip ana mosh 3arfny(MP3_320K).mp3', 'أحمد عدوية - يا بنت السلطان(MP3_320K).mp3', 'مصطفي قمر اصحاب انا وانت ولا(MP3_320K).mp3', 'أغنية يا ايام بيا عدى - من أحداث مسلسل البرنس بطولة محمد رمضان - غناء أحمد سعد(MP3_320K).mp3', 'Zevia - pain_s my only home (Official Lyric Video)(MP3_320K).mp3', 'عمرو السعيد كليب الدنيا زى المرجيحة اخراج احمد بكار انتاج قناة شعبيات حصريا على شعبيات(M4A_128K).m4a', 'اعلان  _زهره هي_ من معمار المرشدي - عسيلي و رزان - رمضان 2023(MP3_320K).mp3', 'اول ما سحبت حزامي - تيتو و بندق و زياد الايراني _ مهرجانات 2023(MP3_320K).mp3', 'الديابة السته ولعبه الرجولية من دي جي فيلو(MP3_320K).mp3', 'حلاوة روح(MP3_320K).mp3', 'ZIAD ZAZA - EMSHI _ زياد ظاظا - إمشي(MP3_320K).mp3', 'الفنان حساني القوصي يبدع بغناء أغنية  _أنا مش مرتاح_ على طريقته الخاصة(MP3_320K).mp3', 'تليفونى للسؤال ( جرا ايه يا افيونة - صاحبى الى بحبو) حمو الطيخا و عصام صاصا -  توزيع كيمو الديب 2022(MP3_320K).mp3', 'عصام صاصا لايف كامل مع حمو الطيخا صحي الاخصام بطلقة(MP3_320K).mp3', 'زوكش-صلاة الزين من فيلم هارلي   Prod by coolpix  __ Zuksh-slat el zain(MP3_160K).mp3', 'مصحة حلقة ١ - _عصام صاصا_ مسا مني ليكو ( سلام يادنيا )(MP3_160K).mp3', 'جورج وسوف - الهوى سلطان(MP3_160K).mp3', 'جورج وسوف - حلف القمر(MP3_160K).mp3', 'جورج وسوف جرحونا برمش عين قول يا ملك 2014(MP3_160K).mp3', 'Zaid Khaled - Ahlam feat. Muhab (Official Audio) _ زيد خالد و مهاب - أحلام(MP3_160K).mp3', 'الوقت فات - أمير عيد (ألبوم مسلسل ريڤو) _ Elwa2t Fat - Amir Eid (Rivo Show Album)(MP3_160K).mp3', 'مسلم - جوب _ Muslim - Job [Official Lyrics Video](MP3_160K).mp3', 'ZIAD ZAZA - SAM3 AKHINA _ زياد ظاظا - سمع أخينا _ OFFICIAL MUSIC VIDEO(MP3_160K).mp3', 'عكس بعض كاملة عمرو دياب    Amr Diab 3ks Ba3d 2016(MP3_160K).mp3', 'يا قلبي لا محبتكش ( لماذا قلبي نبضو قل ) عصام صاصا الكروان و كيمو الديب - توزيع كيمو الديب(MP3_160K).mp3']\n"
          ]
        }
      ],
      "source": [
        "from pickle import TRUE\n",
        "import numpy as np\n",
        "import tensorflow as tf\n",
        "import scipy.io\n",
        "import os\n",
        "from google.colab import drive\n",
        "from pydub import AudioSegment\n",
        "import librosa\n",
        "\n",
        "drive.mount(\"/content/drive\", force_remount=True)\n",
        "folder_path = '/content/drive/My Drive/songs'\n",
        "file_list = os.listdir(folder_path)\n",
        "print(file_list)"
      ]
    },
    {
      "cell_type": "code",
      "source": [
        "def create_directories(base_dir, train_subdir=\"train\", test_subdir=\"test\"):\n",
        "    train_dir = os.path.join(base_dir, train_subdir)\n",
        "    test_dir = os.path.join(base_dir, test_subdir)\n",
        "    os.makedirs(train_dir, exist_ok=True)\n",
        "    os.makedirs(test_dir, exist_ok=True)\n",
        "    return train_dir, test_dir\n",
        "\n",
        "\n",
        "# Split songs into 3-second samples\n",
        "def split_song_into_samples(input_folder, train_dir, sample_duration=3):\n",
        "    i=0\n",
        "    for song_file in os.listdir(input_folder):\n",
        "        if song_file.endswith(('.mp3', '.wav', '.ogg', '.flac')):\n",
        "            song_path = os.path.join(input_folder, song_file)\n",
        "            song_name, _ = os.path.splitext(song_file)\n",
        "            song_output_dir = os.path.join(train_dir, song_name)\n",
        "            os.makedirs(song_output_dir, exist_ok=True)\n",
        "            i=i+1\n",
        "            print(f\"Processing: {song_name}\")\n",
        "            audio = AudioSegment.from_file(song_path)\n",
        "            song_length = len(audio)  # Length in milliseconds\n",
        "\n",
        "            for i in range(0, song_length, sample_duration * 1000):\n",
        "                segment = audio[i:i + sample_duration * 1000]\n",
        "                segment_file = os.path.join(song_output_dir, f\"{song_name}_{i // 1000}.wav\")\n",
        "                segment.export(segment_file, format=\"wav\")\n",
        "            if i > 4\n",
        "              break\n",
        "\n",
        "# Generate spectrograms for the samples\n",
        "def generate_spectrograms(train_dir, test_dir):\n",
        "    for song_folder in os.listdir(train_dir):\n",
        "        folder_path = os.path.join(train_dir, song_folder)\n",
        "        output_folder = os.path.join(test_dir, song_folder)\n",
        "        os.makedirs(output_folder, exist_ok=True)\n",
        "\n",
        "        for i, song_file in enumerate(os.listdir(folder_path)):\n",
        "            song_path = os.path.join(folder_path, song_file)\n",
        "            y, sr = librosa.load(song_path, duration=3)\n",
        "            mels = librosa.feature.melspectrogram(y=y, sr=sr)\n",
        "\n",
        "            fig = plt.Figure()\n",
        "            canvas = FigureCanvas(fig)\n",
        "            ax = fig.add_subplot(111)\n",
        "            ax.imshow(librosa.power_to_db(mels, ref=np.max), aspect='auto', origin='lower')\n",
        "            ax.axis('off')\n",
        "\n",
        "            output_image_path = os.path.join(output_folder, f\"{song_folder}_{i}.png\")\n",
        "            fig.savefig(output_image_path, bbox_inches='tight', pad_inches=0)\n",
        "            plt.close(fig)\n",
        "\n"
      ],
      "metadata": {
        "id": "htNvZAg8wKdM"
      },
      "execution_count": 23,
      "outputs": []
    },
    {
      "cell_type": "code",
      "source": [
        "input_folder = folder_path  # Replace with the folder containing your songs\n",
        "base_output_dir = \"./Samples/spectrograms3sec\"\n",
        "train_dir, test_dir = create_directories(base_output_dir)\n",
        "\n",
        "    # Split songs into samples\n",
        "   # split_song_into_samples(input_folder, train_dir)\n",
        "\n",
        "    # Generate spectrograms from samples\n",
        "generate_spectrograms(train_dir, test_dir)"
      ],
      "metadata": {
        "id": "yTmr5LxqwVQH"
      },
      "execution_count": null,
      "outputs": []
    }
  ]
}